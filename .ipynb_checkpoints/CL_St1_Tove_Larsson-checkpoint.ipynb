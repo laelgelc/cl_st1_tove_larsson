{
 "cells": [
  {
   "cell_type": "markdown",
   "id": "810d9f10-ec19-4b09-8f90-e983e460b319",
   "metadata": {
    "jp-MarkdownHeadingCollapsed": true
   },
   "source": [
    "<center>\n",
    "<img src=\"https://laelgelcpublic.s3.sa-east-1.amazonaws.com/lael_50_years_narrow_white.png.no_years.400px_96dpi.png\" width=\"300\" alt=\"LAEL 50 years logo\">\n",
    "<h3>APPLIED LINGUISTICS GRADUATE PROGRAMME (LAEL)</h3>\n",
    "</center>\n",
    "<hr>"
   ]
  },
  {
   "cell_type": "markdown",
   "id": "888c2c96-2fc3-4a1a-995b-c388036a2a15",
   "metadata": {},
   "source": [
    "# CEPRIL Research Bazaar - Getting Started with R and Inferential Statistics\n",
    "Professor Tove Larsson - Northern Arizona University, USA"
   ]
  },
  {
   "cell_type": "markdown",
   "id": "4507dc70-0cee-4015-bd06-f3b1a5b95eb5",
   "metadata": {},
   "source": [
    "## Required Python packages"
   ]
  },
  {
   "cell_type": "markdown",
   "id": "ff889984-5713-43bb-9d59-6b81e6d50e49",
   "metadata": {},
   "source": [
    "- pandas"
   ]
  },
  {
   "cell_type": "markdown",
   "id": "baeaa3c3-bed8-481a-9815-3df5cb3dc5a9",
   "metadata": {},
   "source": [
    "## Importing the required libraries"
   ]
  },
  {
   "cell_type": "code",
   "execution_count": 1,
   "id": "3aa7e226-e23e-4521-a3eb-89ebb047256f",
   "metadata": {},
   "outputs": [],
   "source": [
    "import pandas as pd\n",
    "import matplotlib.pyplot as plt"
   ]
  },
  {
   "cell_type": "markdown",
   "id": "7a9c2af7-9fc1-4f51-a4f5-2ed915b93039",
   "metadata": {},
   "source": [
    "## Task 1"
   ]
  },
  {
   "cell_type": "markdown",
   "id": "ac18a95a-766d-4f3b-a7ab-5ab617d55f72",
   "metadata": {},
   "source": [
    "### Importing the data into a DataFrame - Alternative 1"
   ]
  },
  {
   "cell_type": "code",
   "execution_count": 2,
   "id": "1fa308ed-d133-44f7-8278-fbc6d3bc3195",
   "metadata": {},
   "outputs": [],
   "source": [
    "student_scores = {\n",
    "    0: { 'Student': 'A', 'Score': 3},\n",
    "    1: { 'Student': 'B', 'Score': 2},\n",
    "    2: { 'Student': 'C', 'Score': 1},\n",
    "    3: { 'Student': 'D', 'Score': 4},\n",
    "    4: { 'Student': 'E', 'Score': 1},\n",
    "    5: { 'Student': 'F', 'Score': 6},\n",
    "    6: { 'Student': 'G', 'Score': 8},\n",
    "    7: { 'Student': 'H', 'Score': 1}\n",
    "}"
   ]
  },
  {
   "cell_type": "code",
   "execution_count": 3,
   "id": "f4b4e58a-9e6f-435c-ac4d-f748c9ce3ee8",
   "metadata": {},
   "outputs": [],
   "source": [
    "df_student_scores = pd.DataFrame(student_scores).transpose()"
   ]
  },
  {
   "cell_type": "markdown",
   "id": "40f1f4ef-eb80-4101-b7c2-ed1bb76d6d14",
   "metadata": {},
   "source": [
    "### Importing the data into a DataFrame - Alternative 2"
   ]
  },
  {
   "cell_type": "code",
   "execution_count": 4,
   "id": "6d430f54-5a90-4324-9e06-98d73ceccc77",
   "metadata": {},
   "outputs": [],
   "source": [
    "student_scores = {\n",
    "    'Student': ['A', 'B', 'C', 'D', 'E', 'F', 'G', 'H'],\n",
    "    'Score': [3, 2, 1, 4, 1, 6, 8, 1]\n",
    "}"
   ]
  },
  {
   "cell_type": "code",
   "execution_count": 5,
   "id": "e65da761-2801-454c-a1f7-4e10e67ebc0e",
   "metadata": {},
   "outputs": [],
   "source": [
    "df_student_scores = pd.DataFrame(student_scores)"
   ]
  },
  {
   "cell_type": "code",
   "execution_count": 6,
   "id": "a40432eb-e698-4482-9df9-130682c6a6d5",
   "metadata": {},
   "outputs": [
    {
     "data": {
      "text/html": [
       "<div>\n",
       "<style scoped>\n",
       "    .dataframe tbody tr th:only-of-type {\n",
       "        vertical-align: middle;\n",
       "    }\n",
       "\n",
       "    .dataframe tbody tr th {\n",
       "        vertical-align: top;\n",
       "    }\n",
       "\n",
       "    .dataframe thead th {\n",
       "        text-align: right;\n",
       "    }\n",
       "</style>\n",
       "<table border=\"1\" class=\"dataframe\">\n",
       "  <thead>\n",
       "    <tr style=\"text-align: right;\">\n",
       "      <th></th>\n",
       "      <th>Student</th>\n",
       "      <th>Score</th>\n",
       "    </tr>\n",
       "  </thead>\n",
       "  <tbody>\n",
       "    <tr>\n",
       "      <th>0</th>\n",
       "      <td>A</td>\n",
       "      <td>3</td>\n",
       "    </tr>\n",
       "    <tr>\n",
       "      <th>1</th>\n",
       "      <td>B</td>\n",
       "      <td>2</td>\n",
       "    </tr>\n",
       "    <tr>\n",
       "      <th>2</th>\n",
       "      <td>C</td>\n",
       "      <td>1</td>\n",
       "    </tr>\n",
       "    <tr>\n",
       "      <th>3</th>\n",
       "      <td>D</td>\n",
       "      <td>4</td>\n",
       "    </tr>\n",
       "    <tr>\n",
       "      <th>4</th>\n",
       "      <td>E</td>\n",
       "      <td>1</td>\n",
       "    </tr>\n",
       "    <tr>\n",
       "      <th>5</th>\n",
       "      <td>F</td>\n",
       "      <td>6</td>\n",
       "    </tr>\n",
       "    <tr>\n",
       "      <th>6</th>\n",
       "      <td>G</td>\n",
       "      <td>8</td>\n",
       "    </tr>\n",
       "    <tr>\n",
       "      <th>7</th>\n",
       "      <td>H</td>\n",
       "      <td>1</td>\n",
       "    </tr>\n",
       "  </tbody>\n",
       "</table>\n",
       "</div>"
      ],
      "text/plain": [
       "  Student  Score\n",
       "0       A      3\n",
       "1       B      2\n",
       "2       C      1\n",
       "3       D      4\n",
       "4       E      1\n",
       "5       F      6\n",
       "6       G      8\n",
       "7       H      1"
      ]
     },
     "execution_count": 6,
     "metadata": {},
     "output_type": "execute_result"
    }
   ],
   "source": [
    "df_student_scores"
   ]
  },
  {
   "cell_type": "markdown",
   "id": "7aefa8bc-af4a-434d-8700-f3e94fbc44a5",
   "metadata": {},
   "source": [
    "### Calculating the `mean`"
   ]
  },
  {
   "cell_type": "code",
   "execution_count": 7,
   "id": "caf33fde-9373-46d1-a55b-b7e98547ce38",
   "metadata": {},
   "outputs": [],
   "source": [
    "mean_score = df_student_scores['Score'].mean()"
   ]
  },
  {
   "cell_type": "code",
   "execution_count": 8,
   "id": "ee45ac11-ba5a-4775-b179-8535dad44294",
   "metadata": {},
   "outputs": [
    {
     "data": {
      "text/plain": [
       "3.25"
      ]
     },
     "execution_count": 8,
     "metadata": {},
     "output_type": "execute_result"
    }
   ],
   "source": [
    "mean_score"
   ]
  },
  {
   "cell_type": "markdown",
   "id": "2dab6bcd-f633-4261-be2c-7af7aef479e2",
   "metadata": {},
   "source": [
    "### Calculating the `median`"
   ]
  },
  {
   "cell_type": "code",
   "execution_count": 9,
   "id": "d7c8c63e-59cd-4082-b0e3-2abb099b6f6c",
   "metadata": {},
   "outputs": [],
   "source": [
    "median_score = df_student_scores['Score'].median()"
   ]
  },
  {
   "cell_type": "code",
   "execution_count": 10,
   "id": "e07cb3f9-2092-47e0-b8ef-66e5c6e4d30c",
   "metadata": {},
   "outputs": [
    {
     "data": {
      "text/plain": [
       "2.5"
      ]
     },
     "execution_count": 10,
     "metadata": {},
     "output_type": "execute_result"
    }
   ],
   "source": [
    "median_score"
   ]
  },
  {
   "cell_type": "markdown",
   "id": "c86f3282-d8ba-45be-9b5c-06b8377c0004",
   "metadata": {},
   "source": [
    "### Calculating the `mode`"
   ]
  },
  {
   "cell_type": "code",
   "execution_count": 11,
   "id": "21d8b681-2aac-4b1c-a37a-4344730bc698",
   "metadata": {},
   "outputs": [],
   "source": [
    "mode_score = df_student_scores['Score'].mode()"
   ]
  },
  {
   "cell_type": "code",
   "execution_count": 12,
   "id": "dabd1127-8e44-4578-8241-3f46cd8968a5",
   "metadata": {},
   "outputs": [
    {
     "data": {
      "text/plain": [
       "0    1\n",
       "Name: Score, dtype: int64"
      ]
     },
     "execution_count": 12,
     "metadata": {},
     "output_type": "execute_result"
    }
   ],
   "source": [
    "mode_score"
   ]
  },
  {
   "cell_type": "markdown",
   "id": "913144b0-517d-4efc-8d05-2d9b152bc36c",
   "metadata": {},
   "source": [
    "### Plotting the `Box Plot`"
   ]
  },
  {
   "cell_type": "code",
   "execution_count": 13,
   "id": "fe2a0168-d212-435b-8fb8-02fc4a331ec6",
   "metadata": {},
   "outputs": [
    {
     "data": {
      "image/png": "[encoded data removed]",
      "text/plain": [
       "<Figure size 640x480 with 1 Axes>"
      ]
     },
     "metadata": {},
     "output_type": "display_data"
    }
   ],
   "source": [
    "# Box Plot for the 'Score' column\n",
    "plt.boxplot(df_student_scores['Score'], vert=True)\n",
    "plt.title(\"Box Plot of 'Student Scores'\")\n",
    "plt.xlabel('Scores')\n",
    "plt.show()"
   ]
  },
  {
   "cell_type": "code",
   "execution_count": null,
   "id": "33dbdbe9-4431-4e7e-a924-9ada858dce72",
   "metadata": {},
   "outputs": [],
   "source": []
  }
 ],
 "metadata": {
  "kernelspec": {
   "display_name": "Python 3 (ipykernel)",
   "language": "python",
   "name": "python3"
  },
  "language_info": {
   "codemirror_mode": {
    "name": "ipython",
    "version": 3
   },
   "file_extension": ".py",
   "mimetype": "text/x-python",
   "name": "python",
   "nbconvert_exporter": "python",
   "pygments_lexer": "ipython3",
   "version": "3.10.12"
  }
 },
 "nbformat": 4,
 "nbformat_minor": 5
}
